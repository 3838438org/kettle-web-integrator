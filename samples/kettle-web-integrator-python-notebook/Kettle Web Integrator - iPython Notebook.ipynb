{
 "cells": [
  {
   "cell_type": "markdown",
   "metadata": {},
   "source": [
    "<b>This example explain how to integrate Kettle/PDI with Python</b><BR>\n",
    "Created by: IT4biz Global<BR>\n",
    "www.it4bizglobal.com <BR>\n"
   ]
  },
  {
   "cell_type": "code",
   "execution_count": 12,
   "metadata": {
    "collapsed": true
   },
   "outputs": [],
   "source": [
    "# Import python libs\n",
    "from lxml import html\n",
    "import requests"
   ]
  },
  {
   "cell_type": "code",
   "execution_count": 10,
   "metadata": {
    "collapsed": false
   },
   "outputs": [
    {
     "data": {
      "text/plain": [
       "u'\\n\\n\\n\\n\\n\\n\\n        \\n\\n            \\n\\n        {\"status\": \"Trans transformations/user_defined_java_class_concatenate_firstname_lastname.ktr executed successfully\", \"metadata\":[{\"colIndex\":0,\"colType\":\"String\",\"colName\":\"firstname\"},{\"colIndex\":1,\"colType\":\"String\",\"colName\":\"lastname\"},{\"colIndex\":2,\"colType\":\"String\",\"colName\":\"name\"}], \"resultset\":[[\"John\",\"Doe\",\"John Doe\"],[\"John\",\"Doe\",\"John Doe\"],[\"John\",\"Doe\",\"John Doe\"],[\"John\",\"Doe\",\"John Doe\"],[\"John\",\"Doe\",\"John Doe\"],[\"John\",\"Doe\",\"John Doe\"],[\"John\",\"Doe\",\"John Doe\"],[\"John\",\"Doe\",\"John Doe\"],[\"John\",\"Doe\",\"John Doe\"],[\"John\",\"Doe\",\"John Doe\"],[\"John\",\"Doe\",\"John Doe\"],[\"John\",\"Doe\",\"John Doe\"],[\"John\",\"Doe\",\"John Doe\"],[\"John\",\"Doe\",\"John Doe\"],[\"John\",\"Doe\",\"John Doe\"],[\"John\",\"Doe\",\"John Doe\"],[\"John\",\"Doe\",\"John Doe\"],[\"John\",\"Doe\",\"John Doe\"],[\"John\",\"Doe\",\"John Doe\"],[\"John\",\"Doe\",\"John Doe\"],[\"John\",\"Doe\",\"John Doe\"],[\"John\",\"Doe\",\"John Doe\"],[\"John\",\"Doe\",\"John Doe\"],[\"John\",\"Doe\",\"John Doe\"],[\"John\",\"Doe\",\"John Doe\"],[\"John\",\"Doe\",\"John Doe\"],[\"John\",\"Doe\",\"John Doe\"],[\"John\",\"Doe\",\"John Doe\"],[\"John\",\"Doe\",\"John Doe\"],[\"John\",\"Doe\",\"John Doe\"],[\"John\",\"Doe\",\"John Doe\"],[\"John\",\"Doe\",\"John Doe\"],[\"John\",\"Doe\",\"John Doe\"],[\"John\",\"Doe\",\"John Doe\"],[\"John\",\"Doe\",\"John Doe\"],[\"John\",\"Doe\",\"John Doe\"],[\"John\",\"Doe\",\"John Doe\"],[\"John\",\"Doe\",\"John Doe\"],[\"John\",\"Doe\",\"John Doe\"],[\"John\",\"Doe\",\"John Doe\"],[\"John\",\"Doe\",\"John Doe\"],[\"John\",\"Doe\",\"John Doe\"],[\"John\",\"Doe\",\"John Doe\"],[\"John\",\"Doe\",\"John Doe\"],[\"John\",\"Doe\",\"John Doe\"],[\"John\",\"Doe\",\"John Doe\"],[\"John\",\"Doe\",\"John Doe\"],[\"John\",\"Doe\",\"John Doe\"],[\"John\",\"Doe\",\"John Doe\"],[\"John\",\"Doe\",\"John Doe\"],[\"John\",\"Doe\",\"John Doe\"],[\"John\",\"Doe\",\"John Doe\"],[\"John\",\"Doe\",\"John Doe\"],[\"John\",\"Doe\",\"John Doe\"],[\"John\",\"Doe\",\"John Doe\"],[\"John\",\"Doe\",\"John Doe\"],[\"John\",\"Doe\",\"John Doe\"],[\"John\",\"Doe\",\"John Doe\"],[\"John\",\"Doe\",\"John Doe\"],[\"John\",\"Doe\",\"John Doe\"],[\"John\",\"Doe\",\"John Doe\"],[\"John\",\"Doe\",\"John Doe\"],[\"John\",\"Doe\",\"John Doe\"],[\"John\",\"Doe\",\"John Doe\"],[\"John\",\"Doe\",\"John Doe\"],[\"John\",\"Doe\",\"John Doe\"],[\"John\",\"Doe\",\"John Doe\"],[\"John\",\"Doe\",\"John Doe\"],[\"John\",\"Doe\",\"John Doe\"],[\"John\",\"Doe\",\"John Doe\"],[\"John\",\"Doe\",\"John Doe\"],[\"John\",\"Doe\",\"John Doe\"],[\"John\",\"Doe\",\"John Doe\"],[\"John\",\"Doe\",\"John Doe\"],[\"John\",\"Doe\",\"John Doe\"],[\"John\",\"Doe\",\"John Doe\"],[\"John\",\"Doe\",\"John Doe\"],[\"John\",\"Doe\",\"John Doe\"],[\"John\",\"Doe\",\"John Doe\"],[\"John\",\"Doe\",\"John Doe\"],[\"John\",\"Doe\",\"John Doe\"],[\"John\",\"Doe\",\"John Doe\"],[\"John\",\"Doe\",\"John Doe\"],[\"John\",\"Doe\",\"John Doe\"],[\"John\",\"Doe\",\"John Doe\"],[\"John\",\"Doe\",\"John Doe\"],[\"John\",\"Doe\",\"John Doe\"],[\"John\",\"Doe\",\"John Doe\"],[\"John\",\"Doe\",\"John Doe\"],[\"John\",\"Doe\",\"John Doe\"],[\"John\",\"Doe\",\"John Doe\"],[\"John\",\"Doe\",\"John Doe\"],[\"John\",\"Doe\",\"John Doe\"],[\"John\",\"Doe\",\"John Doe\"],[\"John\",\"Doe\",\"John Doe\"],[\"John\",\"Doe\",\"John Doe\"],[\"John\",\"Doe\",\"John Doe\"],[\"John\",\"Doe\",\"John Doe\"],[\"John\",\"Doe\",\"John Doe\"],[\"John\",\"Doe\",\"John Doe\"]]}\\n    \\n'"
      ]
     },
     "execution_count": 10,
     "metadata": {},
     "output_type": "execute_result"
    }
   ],
   "source": [
    "# Call a PDI Transformation using Kettle Web Integrator  \n",
    "url = \"http://localhost:8080/kettle-web-integrator/runTransformation.jsp?endpointPath=transformations%2Fuser_defined_java_class_concatenate_firstname_lastname.ktr&stepOutput=Json+output\"\n",
    "pdi_resultset = requests.get(url)\n",
    "\n",
    "# Print the resultset\n",
    "pdi_resultset.text"
   ]
  },
  {
   "cell_type": "code",
   "execution_count": 11,
   "metadata": {
    "collapsed": false
   },
   "outputs": [
    {
     "data": {
      "text/plain": [
       "{u'metadata': [{u'colIndex': 0,\n",
       "   u'colName': u'firstname',\n",
       "   u'colType': u'String'},\n",
       "  {u'colIndex': 1, u'colName': u'lastname', u'colType': u'String'},\n",
       "  {u'colIndex': 2, u'colName': u'name', u'colType': u'String'}],\n",
       " u'resultset': [[u'John', u'Doe', u'John Doe'],\n",
       "  [u'John', u'Doe', u'John Doe'],\n",
       "  [u'John', u'Doe', u'John Doe'],\n",
       "  [u'John', u'Doe', u'John Doe'],\n",
       "  [u'John', u'Doe', u'John Doe'],\n",
       "  [u'John', u'Doe', u'John Doe'],\n",
       "  [u'John', u'Doe', u'John Doe'],\n",
       "  [u'John', u'Doe', u'John Doe'],\n",
       "  [u'John', u'Doe', u'John Doe'],\n",
       "  [u'John', u'Doe', u'John Doe'],\n",
       "  [u'John', u'Doe', u'John Doe'],\n",
       "  [u'John', u'Doe', u'John Doe'],\n",
       "  [u'John', u'Doe', u'John Doe'],\n",
       "  [u'John', u'Doe', u'John Doe'],\n",
       "  [u'John', u'Doe', u'John Doe'],\n",
       "  [u'John', u'Doe', u'John Doe'],\n",
       "  [u'John', u'Doe', u'John Doe'],\n",
       "  [u'John', u'Doe', u'John Doe'],\n",
       "  [u'John', u'Doe', u'John Doe'],\n",
       "  [u'John', u'Doe', u'John Doe'],\n",
       "  [u'John', u'Doe', u'John Doe'],\n",
       "  [u'John', u'Doe', u'John Doe'],\n",
       "  [u'John', u'Doe', u'John Doe'],\n",
       "  [u'John', u'Doe', u'John Doe'],\n",
       "  [u'John', u'Doe', u'John Doe'],\n",
       "  [u'John', u'Doe', u'John Doe'],\n",
       "  [u'John', u'Doe', u'John Doe'],\n",
       "  [u'John', u'Doe', u'John Doe'],\n",
       "  [u'John', u'Doe', u'John Doe'],\n",
       "  [u'John', u'Doe', u'John Doe'],\n",
       "  [u'John', u'Doe', u'John Doe'],\n",
       "  [u'John', u'Doe', u'John Doe'],\n",
       "  [u'John', u'Doe', u'John Doe'],\n",
       "  [u'John', u'Doe', u'John Doe'],\n",
       "  [u'John', u'Doe', u'John Doe'],\n",
       "  [u'John', u'Doe', u'John Doe'],\n",
       "  [u'John', u'Doe', u'John Doe'],\n",
       "  [u'John', u'Doe', u'John Doe'],\n",
       "  [u'John', u'Doe', u'John Doe'],\n",
       "  [u'John', u'Doe', u'John Doe'],\n",
       "  [u'John', u'Doe', u'John Doe'],\n",
       "  [u'John', u'Doe', u'John Doe'],\n",
       "  [u'John', u'Doe', u'John Doe'],\n",
       "  [u'John', u'Doe', u'John Doe'],\n",
       "  [u'John', u'Doe', u'John Doe'],\n",
       "  [u'John', u'Doe', u'John Doe'],\n",
       "  [u'John', u'Doe', u'John Doe'],\n",
       "  [u'John', u'Doe', u'John Doe'],\n",
       "  [u'John', u'Doe', u'John Doe'],\n",
       "  [u'John', u'Doe', u'John Doe'],\n",
       "  [u'John', u'Doe', u'John Doe'],\n",
       "  [u'John', u'Doe', u'John Doe'],\n",
       "  [u'John', u'Doe', u'John Doe'],\n",
       "  [u'John', u'Doe', u'John Doe'],\n",
       "  [u'John', u'Doe', u'John Doe'],\n",
       "  [u'John', u'Doe', u'John Doe'],\n",
       "  [u'John', u'Doe', u'John Doe'],\n",
       "  [u'John', u'Doe', u'John Doe'],\n",
       "  [u'John', u'Doe', u'John Doe'],\n",
       "  [u'John', u'Doe', u'John Doe'],\n",
       "  [u'John', u'Doe', u'John Doe'],\n",
       "  [u'John', u'Doe', u'John Doe'],\n",
       "  [u'John', u'Doe', u'John Doe'],\n",
       "  [u'John', u'Doe', u'John Doe'],\n",
       "  [u'John', u'Doe', u'John Doe'],\n",
       "  [u'John', u'Doe', u'John Doe'],\n",
       "  [u'John', u'Doe', u'John Doe'],\n",
       "  [u'John', u'Doe', u'John Doe'],\n",
       "  [u'John', u'Doe', u'John Doe'],\n",
       "  [u'John', u'Doe', u'John Doe'],\n",
       "  [u'John', u'Doe', u'John Doe'],\n",
       "  [u'John', u'Doe', u'John Doe'],\n",
       "  [u'John', u'Doe', u'John Doe'],\n",
       "  [u'John', u'Doe', u'John Doe'],\n",
       "  [u'John', u'Doe', u'John Doe'],\n",
       "  [u'John', u'Doe', u'John Doe'],\n",
       "  [u'John', u'Doe', u'John Doe'],\n",
       "  [u'John', u'Doe', u'John Doe'],\n",
       "  [u'John', u'Doe', u'John Doe'],\n",
       "  [u'John', u'Doe', u'John Doe'],\n",
       "  [u'John', u'Doe', u'John Doe'],\n",
       "  [u'John', u'Doe', u'John Doe'],\n",
       "  [u'John', u'Doe', u'John Doe'],\n",
       "  [u'John', u'Doe', u'John Doe'],\n",
       "  [u'John', u'Doe', u'John Doe'],\n",
       "  [u'John', u'Doe', u'John Doe'],\n",
       "  [u'John', u'Doe', u'John Doe'],\n",
       "  [u'John', u'Doe', u'John Doe'],\n",
       "  [u'John', u'Doe', u'John Doe'],\n",
       "  [u'John', u'Doe', u'John Doe'],\n",
       "  [u'John', u'Doe', u'John Doe'],\n",
       "  [u'John', u'Doe', u'John Doe'],\n",
       "  [u'John', u'Doe', u'John Doe'],\n",
       "  [u'John', u'Doe', u'John Doe'],\n",
       "  [u'John', u'Doe', u'John Doe'],\n",
       "  [u'John', u'Doe', u'John Doe'],\n",
       "  [u'John', u'Doe', u'John Doe'],\n",
       "  [u'John', u'Doe', u'John Doe'],\n",
       "  [u'John', u'Doe', u'John Doe'],\n",
       "  [u'John', u'Doe', u'John Doe']],\n",
       " u'status': u'Trans transformations/user_defined_java_class_concatenate_firstname_lastname.ktr executed successfully'}"
      ]
     },
     "execution_count": 11,
     "metadata": {},
     "output_type": "execute_result"
    }
   ],
   "source": [
    "# print the resultset in Json format\n",
    "pdi_resultset.json()"
   ]
  }
 ],
 "metadata": {
  "kernelspec": {
   "display_name": "Python 2",
   "language": "python",
   "name": "python2"
  },
  "language_info": {
   "codemirror_mode": {
    "name": "ipython",
    "version": 2
   },
   "file_extension": ".py",
   "mimetype": "text/x-python",
   "name": "python",
   "nbconvert_exporter": "python",
   "pygments_lexer": "ipython2",
   "version": "2.7.9"
  }
 },
 "nbformat": 4,
 "nbformat_minor": 0
}
